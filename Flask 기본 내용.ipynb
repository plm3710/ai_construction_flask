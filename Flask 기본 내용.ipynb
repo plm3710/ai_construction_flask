{
 "cells": [
  {
   "cell_type": "markdown",
   "id": "9e98a874",
   "metadata": {},
   "source": [
    "# 테스트 코드, Flask 기본 내용"
   ]
  },
  {
   "cell_type": "markdown",
   "id": "136900ca",
   "metadata": {},
   "source": [
    "### Route - URL에 웹페이지 연결하기(고정 URL)\n",
    "- URL을 방문 할 때 준비된 함수가 트리거되도록 바인딩 하기 위해 route() 데코레이터를 사용한다\n",
    "- 데코레이터 : @로 시작하며 함수를 수정하지 않은 상태에서 추가 기능을 구현할 때 사용\n",
    "- @app.route('/경로') 를 쓸 때 URL 경로는 반드시 “/” (슬래시)로 시작해야 한다."
   ]
  },
  {
   "cell_type": "code",
   "execution_count": null,
   "id": "6aebe8a1",
   "metadata": {},
   "outputs": [],
   "source": [
    "from flask import Flask\n",
    "\n",
    "app = Flask(__name__)\n",
    "\n",
    "@app.route('/')\n",
    "@app.route('/home') #/와 /home 이렇게 두개 접근 가능\n",
    "def home():\n",
    "    return 'Hello, World!'\n",
    "\n",
    "if __name__ == '__main__':\n",
    "    #app.run('127.0.0.1', 5000, debug=True)\n",
    "    app.run(debug=True) #debug=True일 경우 코드 수정시 Flask가 변경된것을 감지하고 다시 시작함"
   ]
  },
  {
   "cell_type": "markdown",
   "id": "0c461fa5",
   "metadata": {},
   "source": [
    "### Route - URL에 웹페이지 연결하기(동적 URL)\n",
    "- '/user/유저이름/유저아이디' 형식의 URL을 입력 받았을 때 유저이름과 유저아이디를 활용한 내용의 HTML 문서를 반환 가능\n",
    "- <int:user_id> 구문은 \"<\"converter : variable_name>\" 구문을 사용하여 URL에서 받은 변수 타입을 변형"
   ]
  },
  {
   "cell_type": "code",
   "execution_count": null,
   "id": "cd6a19a4",
   "metadata": {},
   "outputs": [],
   "source": [
    "from flask import Flask\n",
    "\n",
    "app = Flask(__name__)\n",
    "\n",
    "@app.route('/')\n",
    "@app.route('/home')\n",
    "def home():\n",
    "    return 'Hello, World!'\n",
    "    \n",
    "@app.route('/user/<user_name>/<int:user_id>')\n",
    "def user(user_name, user_id):\n",
    "    return f'Hello, {user_name}({user_id})!'\n",
    "    \n",
    "if __name__ == '__main__':\n",
    "    app.run(debug=True)"
   ]
  }
 ],
 "metadata": {
  "kernelspec": {
   "display_name": "Python 3 (ipykernel)",
   "language": "python",
   "name": "python3"
  },
  "language_info": {
   "codemirror_mode": {
    "name": "ipython",
    "version": 3
   },
   "file_extension": ".py",
   "mimetype": "text/x-python",
   "name": "python",
   "nbconvert_exporter": "python",
   "pygments_lexer": "ipython3",
   "version": "3.8.13"
  }
 },
 "nbformat": 4,
 "nbformat_minor": 5
}
