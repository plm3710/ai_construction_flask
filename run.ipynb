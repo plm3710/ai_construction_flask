{
 "cells": [
  {
   "cell_type": "code",
   "execution_count": 1,
   "id": "c0c93e8e",
   "metadata": {},
   "outputs": [],
   "source": [
    "import matplotlib.pyplot as plt"
   ]
  },
  {
   "cell_type": "code",
   "execution_count": 5,
   "id": "cae48b89",
   "metadata": {},
   "outputs": [
    {
     "name": "stderr",
     "output_type": "stream",
     "text": [
      " * Running on http://192.168.0.111:9000/ (Press CTRL+C to quit)\n"
     ]
    },
    {
     "name": "stdout",
     "output_type": "stream",
     "text": [
      "temp_image/1b16e03f-5e47-4fed-8ccf-667e585531fb.jpg\n",
      "1/1 [==============================] - 0s 243ms/step\n"
     ]
    },
    {
     "name": "stderr",
     "output_type": "stream",
     "text": [
      "192.168.0.111 - - [24/Nov/2022 17:12:25] \"POST /construction HTTP/1.1\" 200 -\n"
     ]
    },
    {
     "name": "stdout",
     "output_type": "stream",
     "text": [
      "결과 : 작업발판\n",
      "실행 완료\n",
      "{'element': '작업발판', 'hazardousType': '작업발판 설치 상태 불량으로 인한 추락 위험', 'measures': '작업발판 안전사항', 'rule': '산업안전보건기준에 관한 규칙 제9조(작업발판 등)', 'measuresDetail': '발판재료는 작업할 때의 하중을 견딜 수 있도록 견고한 것으로 할 것|작업발판 폭은 40cm이상 발판재료 간의 틈은 3cm이하로 할 것|추락의 위험이 있는 장소에는 안전난간을 설치할 것|작업발판의 지지물은 하중에 의하여 파괴될 우려가 없는 것을 사용할 것|작업발판재료는 뒤집히거나 떨어지지 않도록 둘 이상의 지지물에 연결하거나 고정시킬 것|작업발판을 작업에 따라 이동시킬 경우에는 위험 방지에 필요한 조치를 할 것', 'img_fname': 'temp_image/1b16e03f-5e47-4fed-8ccf-667e585531fb.jpg'}\n"
     ]
    },
    {
     "name": "stderr",
     "output_type": "stream",
     "text": [
      "192.168.0.111 - - [24/Nov/2022 17:12:39] \"POST /construction HTTP/1.1\" 400 -\n"
     ]
    }
   ],
   "source": [
    "from flask import Flask, redirect, request, render_template\n",
    "from werkzeug.utils import secure_filename \n",
    "from matplotlib.pyplot import imread\n",
    "from PIL import Image\n",
    "import numpy as np\n",
    "from urllib import parse\n",
    "\n",
    "from tensorflow.keras.models import load_model\n",
    "model = load_model(\"model/cnn_224_model1_epoch-0016_acc-0.9553.h5\")\n",
    "\n",
    "#결과 값\n",
    "construction_list = ['안전난간', '작업발판', '개구부']\n",
    "preventive_dic = {\"안전난간\" : {'유해위험' : '안전난간 미설치로 인한 추락 위험',\n",
    "                               '규칙' : '산업안전보건기준에 관한 규칙 제13조(안전난간의 구조 및 설치요건)',\n",
    "                               '재해예방대책' : '안전난간 안전사항',\n",
    "                               '재해예방세부대책' : ['상부 난간대 중간 난간대 발끝막이판 및 난간기둥으로 구성할 것',\n",
    "                                                     '안전난간은 구조적으로 가장 취약한 지점에서 가장 취약한 방향으로 작용하는 100킬로그램 이상의 하중에 견딜 수 있는 튼튼한 구조일 것',\n",
    "                                                     '상부 난간대는 바닥면·발판 또는 경사로의 표면으로부터 90cm 이상 지점에 설치할 것', \n",
    "                                                     '난간 설치가 힘든 부분은 철골용 포스트 및 로프를 사용하여 추락위험방지 조치할 것']},\n",
    "                  \"작업발판\" : {'유해위험' : '작업발판 설치 상태 불량으로 인한 추락 위험',\n",
    "                               '규칙' : '산업안전보건기준에 관한 규칙 제9조(작업발판 등)',\n",
    "                               '재해예방대책' : '작업발판 안전사항',\n",
    "                               '재해예방세부대책' : ['발판재료는 작업할 때의 하중을 견딜 수 있도록 견고한 것으로 할 것',\n",
    "                                                     '작업발판 폭은 40cm이상 발판재료 간의 틈은 3cm이하로 할 것',\n",
    "                                                     '추락의 위험이 있는 장소에는 안전난간을 설치할 것', \n",
    "                                                     '작업발판의 지지물은 하중에 의하여 파괴될 우려가 없는 것을 사용할 것',\n",
    "                                                     '작업발판재료는 뒤집히거나 떨어지지 않도록 둘 이상의 지지물에 연결하거나 고정시킬 것',\n",
    "                                                     '작업발판을 작업에 따라 이동시킬 경우에는 위험 방지에 필요한 조치를 할 것']},\n",
    "                  \"개구부\" : {'유해위험' : '개구부 덮개 미설치로 인한 추락 위험',\n",
    "                              '규칙' : '산업안전보건기준에 관한 규칙 제43조(개구부 등의 방호 조치)',\n",
    "                              '재해예방대책' : '개구부 안전사항',\n",
    "                              '재해예방세부대책' : ['덮개를 설치하는 경우 뒤집히거나 떨어지지 않도록 설치하고 어두운 장소에서도 알아볼 수 있도록 개구부임을 표시할 것',\n",
    "                                                    '근로자 추락위험 장소 안전난간 울타리 수직형 추락방망 또는 덮개 등의 방호 조치 충분한 강도를 가진 구조로 튼튼하게 설치할 것']}}\n",
    "\n",
    "preventive_dic = {\"안전난간\": {\"element\":\"안전난간\",\n",
    "                               \"hazardousType\":\"안전난간 미설치로 인한 추락 위험\",\n",
    "                               \"measures\":\"안전난간 안전사항\",\n",
    "                               \"rule\":\"산업안전보건 기준에 관한 규칙 제13조(안전난간의 구조 및 설치요건)\",\n",
    "                               \"measuresDetail\":\"상부 난간대 중간 난간대 발끝막이판 및 난간기둥으로 구성할 것;안전난간은 구조적으로 가장 취약한 지점에서 가장 취약한 방향으로 작용하는 100킬로그램 이상의 하중에 견딜 수 있는 튼튼한 구조일 것;상부 난간대는 바닥면·발판 또는 경사로의 표면으로부터 90cm 이상 지점에 설치할 것;난간 설치가 힘든 부분은 철골용 포스트 및 로프를 사용하여 추락위험방지 조치할 것\"},\n",
    "                  \"작업발판\": {\"element\":\"작업발판\",\n",
    "                               \"hazardousType\":\"작업발판 설치 상태 불량으로 인한 추락 위험\",\n",
    "                               \"measures\":\"작업발판 안전사항\",\n",
    "                               \"rule\":\"산업안전보건기준에 관한 규칙 제9조(작업발판 등)\",\n",
    "                               \"measuresDetail\":\"발판재료는 작업할 때의 하중을 견딜 수 있도록 견고한 것으로 할 것;작업발판 폭은 40cm이상 발판재료 간의 틈은 3cm이하로 할 것;추락의 위험이 있는 장소에는 안전난간을 설치할 것;작업발판의 지지물은 하중에 의하여 파괴될 우려가 없는 것을 사용할 것;작업발판재료는 뒤집히거나 떨어지지 않도록 둘 이상의 지지물에 연결하거나 고정시킬 것;작업발판을 작업에 따라 이동시킬 경우에는 위험 방지에 필요한 조치를 할 것\"},\n",
    "                  \"개구부\" : {\"element\":\"개구부\",\n",
    "                               \"hazardousType\":\"개구부 덮개 미설치로 인한 추락 위험\",\n",
    "                               \"measures\":\"개구부 안전사항\",\n",
    "                               \"rule\":\"산업안전보건기준에 관한 규칙 제43조(개구부 등의 방호 조치)\",\n",
    "                               \"measuresDetail\":\"덮개를 설치하는 경우 뒤집히거나 떨어지지 않도록 설치하고 어두운 장소에서도 알아볼 수 있도록 개구부임을 표시할 것;근로자 추락위험 장소 안전난간 울타리 수직형 추락방망 또는 덮개 등의 방호 조치 충분한 강도를 가진 구조로 튼튼하게 설치할 것\"}}\n",
    "\n",
    "\n",
    "\n",
    "\"\"\"Flask\"\"\"\n",
    "app = Flask(__name__)\n",
    "@app.route(\"/construction\",methods=['GET','POST'])\n",
    "def construction():\n",
    "    \n",
    "    if request.method==\"POST\":\n",
    "        f = request.files[\"file\"] #이미지 파일 전송 받기\n",
    "        fname = 'temp_image/'+str(secure_filename(f.filename)) \n",
    "        print(fname)\n",
    "        f.save(fname)#이미지 저장\n",
    "        \n",
    "    img = imread(fname)\n",
    "    img = np.array(Image.fromarray(img).resize((224,224))) #사이즈 변경\n",
    "    img = img.reshape(-1, img.shape[0], img.shape[1], img.shape[2]) #4차원으로 변경\n",
    "    pre = np.argmax(model.predict(img)) #예측결과 확인\n",
    "\n",
    "    result = preventive_dic[construction_list[pre]]\n",
    "    \n",
    "    #사진 파일 이름 추가\n",
    "    result['img_fname'] = fname\n",
    "    \n",
    "    print(\"결과 : {}\".format(construction_list[pre]))\n",
    "    print(\"실행 완료\")\n",
    "    \n",
    "    #json 형식이나 쿼리스트링으로 전송시 문자열로 전송하기 위해 내용 처리\n",
    "    #result = str(result).replace(\"'\",\"\").replace('\"','').replace(\"{\",\"\").replace(\"}\",\"\").replace(\"[\",\"\").replace(\"]\",\"\").replace(\":\",\",\")\n",
    "    \n",
    "    #return redirect(\"http://192.168.0.111:5500/construction_result.html?result=\"+str(result))\n",
    "    print(result)\n",
    "    return result\n",
    "\n",
    "if __name__ == '__main__':\n",
    "    from werkzeug.serving import run_simple\n",
    "    run_simple('192.168.0.111', 9000, app)"
   ]
  },
  {
   "cell_type": "code",
   "execution_count": null,
   "id": "1ac6cadf",
   "metadata": {},
   "outputs": [],
   "source": []
  },
  {
   "cell_type": "code",
   "execution_count": null,
   "id": "23b0f970",
   "metadata": {},
   "outputs": [],
   "source": []
  },
  {
   "cell_type": "code",
   "execution_count": null,
   "id": "44b71361",
   "metadata": {},
   "outputs": [],
   "source": []
  },
  {
   "cell_type": "code",
   "execution_count": null,
   "id": "e7ffb088",
   "metadata": {},
   "outputs": [],
   "source": []
  },
  {
   "cell_type": "code",
   "execution_count": null,
   "id": "d14cc794",
   "metadata": {},
   "outputs": [],
   "source": []
  },
  {
   "cell_type": "code",
   "execution_count": null,
   "id": "ef2aa390",
   "metadata": {},
   "outputs": [],
   "source": []
  },
  {
   "cell_type": "code",
   "execution_count": null,
   "id": "052762bc",
   "metadata": {},
   "outputs": [],
   "source": []
  },
  {
   "cell_type": "code",
   "execution_count": null,
   "id": "66f2a51a",
   "metadata": {},
   "outputs": [],
   "source": []
  },
  {
   "cell_type": "code",
   "execution_count": null,
   "id": "bc8a6371",
   "metadata": {},
   "outputs": [],
   "source": []
  },
  {
   "cell_type": "code",
   "execution_count": null,
   "id": "c1bb793a",
   "metadata": {},
   "outputs": [],
   "source": []
  },
  {
   "cell_type": "code",
   "execution_count": null,
   "id": "020f7f4c",
   "metadata": {},
   "outputs": [],
   "source": []
  }
 ],
 "metadata": {
  "kernelspec": {
   "display_name": "Python 3 (ipykernel)",
   "language": "python",
   "name": "python3"
  },
  "language_info": {
   "codemirror_mode": {
    "name": "ipython",
    "version": 3
   },
   "file_extension": ".py",
   "mimetype": "text/x-python",
   "name": "python",
   "nbconvert_exporter": "python",
   "pygments_lexer": "ipython3",
   "version": "3.8.13"
  }
 },
 "nbformat": 4,
 "nbformat_minor": 5
}
